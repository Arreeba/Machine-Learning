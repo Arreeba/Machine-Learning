{
  "cells": [
    {
      "cell_type": "markdown",
      "source": [
        "# CREATE A COPY FIRST!"
      ],
      "metadata": {
        "id": "-r7PP3X3JvaQ"
      }
    },
    {
      "cell_type": "markdown",
      "metadata": {
        "id": "6OoLaW7vo3eC"
      },
      "source": [
        "## **Question 2: Arabic Handwritten Character Search**\n",
        "\n",
        "Ali’s younger brother is learning to write Arabic characters. One day, he wrote a character that looks like **\"ب\"**, and Ali wants to find **the most similar 5 images** from a dataset of handwritten Arabic characters.\n",
        "\n",
        "📝 **Your Task:**  \n",
        "Complete the missing code cells below by implementing **image search** to find the most similar 5 images to the given input character.  \n",
        "\n"
      ]
    },
    {
      "cell_type": "markdown",
      "metadata": {
        "id": "43-3OiiSJurY"
      },
      "source": [
        "# Download Data"
      ]
    },
    {
      "cell_type": "markdown",
      "metadata": {
        "id": "IF8OOwmTw7MC"
      },
      "source": [
        "### Query Image"
      ]
    },
    {
      "cell_type": "code",
      "execution_count": null,
      "metadata": {
        "execution": {
          "iopub.execute_input": "2025-02-18T06:30:04.904637Z",
          "iopub.status.busy": "2025-02-18T06:30:04.904181Z",
          "iopub.status.idle": "2025-02-18T06:30:04.909035Z",
          "shell.execute_reply": "2025-02-18T06:30:04.907557Z",
          "shell.execute_reply.started": "2025-02-18T06:30:04.904603Z"
        },
        "id": "FQPjN6xPvssH",
        "trusted": true
      },
      "outputs": [],
      "source": [
        "# # Please uncomment this out when you are running this lab on google colab!\n",
        "import os\n",
        "\n",
        "# # Set KaggleHub cache to a directory inside /content/\n",
        "os.environ[\"KAGGLEHUB_CACHE\"] = \"/content/data\""
      ]
    },
    {
      "cell_type": "code",
      "execution_count": null,
      "metadata": {
        "id": "zb3_G3UxudPV",
        "trusted": true,
        "colab": {
          "base_uri": "https://localhost:8080/",
          "height": 67
        },
        "outputId": "12a14546-d6bf-4cdd-96f4-394d623adc82"
      },
      "outputs": [
        {
          "output_type": "stream",
          "name": "stdout",
          "text": [
            "Warning: Looks like you're using an outdated `kagglehub` version (installed: 0.3.7), please consider upgrading to the latest version (0.3.8).\n"
          ]
        },
        {
          "output_type": "execute_result",
          "data": {
            "text/plain": [
              "<PIL.PngImagePlugin.PngImageFile image mode=L size=32x32>"
            ],
            "image/png": "[encoded data removed]",
            "image/jpeg": "[encoded data removed]"
          },
          "metadata": {},
          "execution_count": 16
        }
      ],
      "source": [
        "import kagglehub\n",
        "from PIL import Image\n",
        "import os\n",
        "\n",
        "path = kagglehub.dataset_download(\"mohammad2012191/character\")\n",
        "raw_query_image = Image.open(os.path.join(path,\"char.png\"))\n",
        "raw_query_image"
      ]
    },
    {
      "cell_type": "markdown",
      "metadata": {
        "id": "BQzaaxRWw9I6"
      },
      "source": [
        "### Arabic Characters Dataset"
      ]
    },
    {
      "cell_type": "code",
      "execution_count": null,
      "metadata": {
        "id": "M83HESLawt9N",
        "trusted": true,
        "colab": {
          "base_uri": "https://localhost:8080/"
        },
        "outputId": "c2bdf7b3-3e7a-4dd0-a65a-fd76c734f64f"
      },
      "outputs": [
        {
          "output_type": "stream",
          "name": "stdout",
          "text": [
            "Warning: Looks like you're using an outdated `kagglehub` version (installed: 0.3.7), please consider upgrading to the latest version (0.3.8).\n",
            "Path to dataset files: /content/data/datasets/mohammad2012191/arabic-chars/versions/3\n"
          ]
        }
      ],
      "source": [
        "import kagglehub\n",
        "\n",
        "# Download latest version\n",
        "dataset_path = kagglehub.dataset_download(\"mohammad2012191/arabic-chars\")\n",
        "\n",
        "print(\"Path to dataset files:\", dataset_path)"
      ]
    },
    {
      "cell_type": "markdown",
      "metadata": {
        "id": "1UsLqWiZ2gdt"
      },
      "source": [
        "# TASK 1: Complete the following code to build a custom dataset class for the data"
      ]
    },
    {
      "cell_type": "code",
      "execution_count": null,
      "metadata": {
        "execution": {
          "iopub.execute_input": "2025-02-18T06:30:05.649942Z",
          "iopub.status.busy": "2025-02-18T06:30:05.649623Z",
          "iopub.status.idle": "2025-02-18T06:30:05.657730Z",
          "shell.execute_reply": "2025-02-18T06:30:05.656457Z",
          "shell.execute_reply.started": "2025-02-18T06:30:05.649915Z"
        },
        "id": "GOkfhgZpxLK0",
        "trusted": true
      },
      "outputs": [],
      "source": [
        "import os\n",
        "import glob\n",
        "from PIL import Image\n",
        "from torch.utils.data import Dataset, DataLoader\n",
        "import torchvision.transforms as transforms\n",
        "\n",
        "class ArabicHandwritingDataset(Dataset):\n",
        "    def __init__(self, root_dir, transform=None):\n",
        "        self.root_dir = root_dir\n",
        "        self.image_paths = glob.glob(os.path.join(root_dir, \"*.png\"))# TO DO: Use glob to extract images paths from root_dir\n",
        "        self.transform = transform\n",
        "\n",
        "    def __len__(self):\n",
        "        return len(self.image_paths)\n",
        "\n",
        "    def __getitem__(self, idx):\n",
        "        img_path = self.image_paths[idx]\n",
        "        image = Image.open(img_path).convert('RGB')   # TO DO: Write a line to load the image from img_path\n",
        "        label = int(os.path.basename(img_path).split('_')[1].split('.')[0])   # TO DO: Write a line to extract the label from img_path\n",
        "\n",
        "        if self.transform:\n",
        "            image = self.transform(image)\n",
        "        return image, label"
      ]
    },
    {
      "cell_type": "code",
      "execution_count": null,
      "metadata": {
        "execution": {
          "iopub.execute_input": "2025-02-18T06:30:05.660017Z",
          "iopub.status.busy": "2025-02-18T06:30:05.659526Z",
          "iopub.status.idle": "2025-02-18T06:30:05.690778Z",
          "shell.execute_reply": "2025-02-18T06:30:05.689570Z",
          "shell.execute_reply.started": "2025-02-18T06:30:05.659980Z"
        },
        "trusted": true,
        "id": "hYZdiQhyJurc",
        "outputId": "c0435583-03c8-4711-c36f-7964063e55ef",
        "colab": {
          "base_uri": "https://localhost:8080/"
        }
      },
      "outputs": [
        {
          "output_type": "stream",
          "name": "stdout",
          "text": [
            "Total images: 668\n"
          ]
        }
      ],
      "source": [
        "transform = transforms.Compose([\n",
        "    transforms.Grayscale(3),\n",
        "    transforms.Resize((32, 32)),# TO DO: Resize to 32*32\n",
        "    transforms.ToTensor(),# TO DO: Convert to Tensor\n",
        "    transforms.Normalize(mean=[0.485, 0.456, 0.406], std=[0.229, 0.224, 0.225])# TO DO: Normalize using Imagenet mean and std\n",
        "])\n",
        "\n",
        "\n",
        "train_dataset = ArabicHandwritingDataset(root_dir=os.path.join(dataset_path,\"chars images\"), transform=transform)\n",
        "train_loader =  DataLoader(train_dataset, batch_size=32, shuffle=True, num_workers=2)# TO DO\n",
        "print(f\"Total images: {len(train_dataset)}\")\n",
        "\n",
        "\n",
        "\n",
        "transformed_query_image = transform(raw_query_image)# TO DO: Apply the transform to raw_query_image"
      ]
    },
    {
      "cell_type": "markdown",
      "metadata": {
        "id": "KlsU08eB1RPQ"
      },
      "source": [
        "# TASK 2: Use EfficientNet B3 to extract features."
      ]
    },
    {
      "cell_type": "markdown",
      "metadata": {
        "id": "_Otiq1WbJurd"
      },
      "source": [
        "##### import using:\n",
        "from torchvision.models import efficientnet_b3"
      ]
    },
    {
      "cell_type": "markdown",
      "metadata": {
        "id": "UXqoQqeFJurd"
      },
      "source": [
        "### Extract Features for the dataset images"
      ]
    },
    {
      "cell_type": "code",
      "execution_count": null,
      "metadata": {
        "trusted": true,
        "id": "k_R5kalRJurd",
        "colab": {
          "base_uri": "https://localhost:8080/"
        },
        "outputId": "746420ec-97fc-4b6c-9c07-e61c18be6d75"
      },
      "outputs": [
        {
          "output_type": "stream",
          "name": "stderr",
          "text": [
            "100%|██████████| 21/21 [00:05<00:00,  4.14it/s]\n"
          ]
        }
      ],
      "source": [
        "import torch\n",
        "import torchvision.models as models\n",
        "from torch import nn\n",
        "from tqdm import tqdm\n",
        "# TO DO: Load pretrained efficientnet_b3 model\n",
        "device = \"cuda\" if torch.cuda.is_available() else \"cpu\"\n",
        "efficientnet = models.efficientnet_b3(weights=models.EfficientNet_B3_Weights.IMAGENET1K_V1) #pretrained model\n",
        "efficientnet.eval().to(device)\n",
        "\n",
        "# TO DO: Use efficientnet_b3 to extract features\n",
        "def extract_features(image_tensor):\n",
        "    image_tensor = image_tensor.to(device)\n",
        "    with torch.no_grad(): # no new gradients need to be computed(no new stuff to learn)\n",
        "        features = efficientnet.features(image_tensor)  # Extract features thro its features extraction layer and output is a compressed feature map which needs to be flattened\n",
        "        features = torch.flatten(features, start_dim=1)  # Flatten before passing to classifier\n",
        "        # features = efficientnet.classifier[0](features)  # Pass through first layer of classifier\n",
        "    return features\n",
        "# Extract features for all images\n",
        "all_features = []\n",
        "image_tensors = []\n",
        "\n",
        "for images, _ in tqdm(train_loader):\n",
        "    image_tensors.append(images)\n",
        "    features = extract_features(images)\n",
        "    all_features.append(features.cpu())\n",
        "\n",
        "# TO DO: Convert features to numpy and concatenate them.\n",
        "all_features = torch.cat(all_features).numpy()\n",
        "\n",
        "# TO DO: Concatenate the raw images tensors\n",
        "image_tensors = torch.cat(image_tensors)"
      ]
    },
    {
      "cell_type": "markdown",
      "metadata": {
        "id": "nrnv6Q1OJurd"
      },
      "source": [
        "### Extract Features for the query image"
      ]
    },
    {
      "cell_type": "code",
      "execution_count": null,
      "metadata": {
        "execution": {
          "iopub.execute_input": "2025-02-18T06:30:13.453921Z",
          "iopub.status.busy": "2025-02-18T06:30:13.453350Z",
          "iopub.status.idle": "2025-02-18T06:30:13.492599Z",
          "shell.execute_reply": "2025-02-18T06:30:13.491384Z",
          "shell.execute_reply.started": "2025-02-18T06:30:13.453871Z"
        },
        "trusted": true,
        "id": "lYyANrzZJure"
      },
      "outputs": [],
      "source": [
        "### TO DO: Fix the error in this line so it extracts features from the query image successfully\n",
        "## Adding a batch dimension\n",
        "transformed_query_image = transformed_query_image.unsqueeze(0)  # Shape becomes [1, C, H, W]\n",
        "query_image_feats = extract_features(transformed_query_image)"
      ]
    },
    {
      "cell_type": "markdown",
      "metadata": {
        "id": "33H1GIb41uG0"
      },
      "source": [
        "# TASK 3: Get the indices of top 5 images using Cosine Similarity"
      ]
    },
    {
      "cell_type": "code",
      "execution_count": null,
      "metadata": {
        "execution": {
          "iopub.execute_input": "2025-02-18T06:30:13.494220Z",
          "iopub.status.busy": "2025-02-18T06:30:13.493875Z",
          "iopub.status.idle": "2025-02-18T06:30:13.512319Z",
          "shell.execute_reply": "2025-02-18T06:30:13.510810Z",
          "shell.execute_reply.started": "2025-02-18T06:30:13.494190Z"
        },
        "id": "-0gHEjRi10FQ",
        "trusted": true
      },
      "outputs": [],
      "source": [
        "### TO DO\n",
        "import matplotlib.pyplot as plt\n",
        "from sklearn.metrics.pairwise import cosine_similarity\n",
        "import torch\n",
        "import random\n",
        "from sklearn.decomposition import PCA\n",
        "\n",
        "# Apply PCA(principle component analysis)\n",
        "n_pca_components = 300  # Number of principal components to keep\n",
        "pca = PCA(n_components=n_pca_components)#creating pca object\n",
        "pca_features = pca.fit_transform(all_features)#reducing dimentionality\n",
        "query_image_feats_pca = pca.transform(query_image_feats)\n",
        "\n",
        "# Compute cosine similarity\n",
        "similarities = cosine_similarity(pca_features, query_image_feats_pca.reshape(1, -1)).reshape(-1)#reshaping the whole array to 1D at the end(eg:[0.7,0.6,..]).\n",
        "\n",
        "# Get top 5 similar images\n",
        "top_indices = similarities.argsort()[-6:-1][::-1]  # Ignore the last query itself\n"
      ]
    },
    {
      "cell_type": "markdown",
      "metadata": {
        "id": "viNWPZsH12fG"
      },
      "source": [
        "# TASK 4: Fix the errors in the following code to plot the most 5 similar images"
      ]
    },
    {
      "cell_type": "code",
      "execution_count": null,
      "metadata": {
        "id": "7nwlMW-518q4",
        "trusted": true,
        "colab": {
          "base_uri": "https://localhost:8080/",
          "height": 336
        },
        "outputId": "a626ab09-d6cb-4131-c9a2-b94676bdbd95"
      },
      "outputs": [
        {
          "output_type": "stream",
          "name": "stderr",
          "text": [
            "WARNING:matplotlib.image:Clipping input data to the valid range for imshow with RGB data ([0..1] for floats or [0..255] for integers). Got range [-2.117904..2.64].\n",
            "WARNING:matplotlib.image:Clipping input data to the valid range for imshow with RGB data ([0..1] for floats or [0..255] for integers). Got range [-2.117904..2.64].\n",
            "WARNING:matplotlib.image:Clipping input data to the valid range for imshow with RGB data ([0..1] for floats or [0..255] for integers). Got range [-2.117904..2.64].\n",
            "WARNING:matplotlib.image:Clipping input data to the valid range for imshow with RGB data ([0..1] for floats or [0..255] for integers). Got range [-2.117904..2.64].\n",
            "WARNING:matplotlib.image:Clipping input data to the valid range for imshow with RGB data ([0..1] for floats or [0..255] for integers). Got range [-2.117904..2.64].\n"
          ]
        },
        {
          "output_type": "display_data",
          "data": {
            "text/plain": [
              "<Figure size 1500x300 with 6 Axes>"
            ],
            "image/png": "[encoded data removed]"
          },
          "metadata": {}
        }
      ],
      "source": [
        "# Display query & retrieved images with similarity scores\n",
        "fig, axes = plt.subplots(1, 6, figsize=(15, 3))\n",
        "\n",
        "# Query image\n",
        "transform_to_tensor = transforms.ToTensor()  # ToTensor() converts PIL to tensor\n",
        "query_image_tensor = transform_to_tensor(raw_query_image)\n",
        "axes[0].imshow(query_image_tensor.permute(1, 2, 0).numpy())\n",
        "axes[0].set_title(\"Query Image\")\n",
        "axes[0].axis(\"off\")\n",
        "\n",
        "# Retrieved similar images with similarity scores\n",
        "for i, idx in enumerate(top_indices):\n",
        "    image = image_tensors[idx]\n",
        "    similarity_score = similarities[idx]  # Get similarity score\n",
        "    axes[i + 1].imshow(image.permute(1, 2, 0).numpy())\n",
        "    axes[i + 1].set_title(f\"Similar {i+1}\\n{100*similarity_score:.2f}%\")  # Show similarity score\n",
        "    axes[i + 1].axis(\"off\")\n",
        "\n",
        "plt.show()\n"
      ]
    },
    {
      "cell_type": "markdown",
      "metadata": {
        "id": "6jhRQLRJ1-y5"
      },
      "source": [
        "# Bonus Task:  Get the indices of the most 5 *dissimilar* images and plot them"
      ]
    },
    {
      "cell_type": "code",
      "execution_count": null,
      "metadata": {
        "trusted": true,
        "id": "n2XW0YfzJure"
      },
      "outputs": [],
      "source": [
        "### TO DO"
      ]
    }
  ],
  "metadata": {
    "colab": {
      "provenance": []
    },
    "kaggle": {
      "accelerator": "none",
      "dataSources": [
        {
          "datasetId": 6683776,
          "sourceId": 10779845,
          "sourceType": "datasetVersion"
        },
        {
          "datasetId": 6683904,
          "sourceId": 10779858,
          "sourceType": "datasetVersion"
        }
      ],
      "dockerImageVersionId": 30886,
      "isGpuEnabled": false,
      "isInternetEnabled": true,
      "language": "python",
      "sourceType": "notebook"
    },
    "kernelspec": {
      "display_name": "Python 3",
      "language": "python",
      "name": "python3"
    },
    "language_info": {
      "codemirror_mode": {
        "name": "ipython",
        "version": 3
      },
      "file_extension": ".py",
      "mimetype": "text/x-python",
      "name": "python",
      "nbconvert_exporter": "python",
      "pygments_lexer": "ipython3",
      "version": "3.10.12"
    }
  },
  "nbformat": 4,
  "nbformat_minor": 0
}
